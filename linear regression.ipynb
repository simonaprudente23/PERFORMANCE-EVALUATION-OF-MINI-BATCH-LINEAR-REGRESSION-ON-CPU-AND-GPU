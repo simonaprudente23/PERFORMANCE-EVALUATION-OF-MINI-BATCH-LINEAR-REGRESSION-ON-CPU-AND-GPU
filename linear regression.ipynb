{
 "cells": [
  {
   "cell_type": "code",
   "execution_count": 484,
   "metadata": {},
   "outputs": [],
   "source": [
    "import numpy as np\n",
    "import matplotlib.pyplot as plt\n",
    "import torch\n",
    "from torch.utils.data import DataLoader\n",
    "from time import perf_counter\n",
    "import cProfile\n",
    "import random\n"
   ]
  },
  {
   "cell_type": "code",
   "execution_count": 485,
   "metadata": {},
   "outputs": [
    {
     "name": "stdout",
     "output_type": "stream",
     "text": [
      "202500000\n",
      "[[0.37454012]\n",
      " [0.95071431]\n",
      " [0.73199394]\n",
      " ...\n",
      " [0.03365269]\n",
      " [0.32790563]\n",
      " [0.80735113]]\n",
      "[[0.26726292]\n",
      " [0.01922887]\n",
      " [0.80931828]\n",
      " ...\n",
      " [0.49762245]\n",
      " [0.69895611]\n",
      " [0.21513802]]\n"
     ]
    }
   ],
   "source": [
    "# Data Generation\n",
    "np.random.seed(42)\n",
    "x = np.random.rand(13500000*15, 1)\n",
    "y = 1 + 2 * x + .1 * np.random.randn(13500000*15, 1)\n",
    "print(len(x))\n",
    "print(x)\n",
    "\n",
    "# Shuffles the indices\n",
    "idx = np.arange(13500000*15)\n",
    "np.random.shuffle(idx)\n",
    "\n",
    "# Uses first 80 random indices for train\n",
    "train_idx = idx[:]\n",
    "# Uses the remaining indices for validation\n",
    "#val_idx = idx[500000000:]\n",
    "\n",
    "# Generates train and validation sets\n",
    "x_train, y_train = x[train_idx], y[train_idx]\n",
    "#x_val, y_val = x[val_idx], y[val_idx]\n",
    "\n",
    "print(x_train)\n"
   ]
  },
  {
   "cell_type": "code",
   "execution_count": 486,
   "metadata": {
    "scrolled": true
   },
   "outputs": [
    {
     "name": "stdout",
     "output_type": "stream",
     "text": [
      "[0.49671415] [-0.1382643]\n",
      "[0.98914178] [2.02052165]\n",
      "Wall time: 6min 23s\n"
     ]
    }
   ],
   "source": [
    "%%time\n",
    "# Simple regression problem: \n",
    "# y = a + bx + e\n",
    "# Initializes parameters \"a\" and \"b\" randomly\n",
    "np.random.seed(42)\n",
    "a = np.random.randn(1)\n",
    "b = np.random.randn(1)\n",
    "print(a,b)\n",
    "\n",
    "# Sets learning rate\n",
    "lr = 0.5\n",
    "\n",
    "# Defines number of iterations\n",
    "n_epochs = 1000\n",
    "\n",
    "# Defines minibatch step size\n",
    "minibatch_size=50\n",
    "\n",
    "#start = perf_counter()\n",
    "\n",
    "for epoch in range(n_epochs):\n",
    "    sampling = random.choices(np.arange(len(x_train)), k=minibatch_size)\n",
    "    x_batch = x_train[sampling]\n",
    "    y_batch = y_train[sampling]\n",
    "        \n",
    "    # Computes our model's predicted output\n",
    "    yhat = a + b * x_batch\n",
    "    \n",
    "    # How wrong is our model? That's the error! \n",
    "    error = (y_batch - yhat)\n",
    "    \n",
    "    # It is a regression, so it computes mean squared error (MSE)\n",
    "    #loss = (error ** 2).mean()\n",
    "    loss = (error ** 2).mean()\n",
    "\n",
    "\n",
    "    # Computes gradients for both \"a\" and \"b\" parameters\n",
    "    a_grad = -2 * error.mean()\n",
    "    b_grad = -2 * (x_batch * error).mean()\n",
    "\n",
    "    # Updates parameters using gradients and the learning rate\n",
    "    a = a - lr * a_grad\n",
    "    b = b - lr * b_grad\n",
    "\n",
    "print(a,b)\n"
   ]
  },
  {
   "cell_type": "code",
   "execution_count": 487,
   "metadata": {},
   "outputs": [
    {
     "data": {
      "text/plain": [
       "<function matplotlib.pyplot.show(*args, **kw)>"
      ]
     },
     "execution_count": 487,
     "metadata": {},
     "output_type": "execute_result"
    },
    {
     "data": {
      "image/png": "[encoded data removed]",
      "text/plain": [
       "<Figure size 432x288 with 1 Axes>"
      ]
     },
     "metadata": {
      "needs_background": "light"
     },
     "output_type": "display_data"
    }
   ],
   "source": [
    "#plot linear regression\n",
    "plt.figure(3) \n",
    "plt.scatter(x_batch,y_batch)\n",
    "plt.plot(x_batch,yhat,color = 'red')\n",
    "plt.show\n"
   ]
  },
  {
   "cell_type": "code",
   "execution_count": null,
   "metadata": {},
   "outputs": [],
   "source": []
  },
  {
   "cell_type": "code",
   "execution_count": 488,
   "metadata": {},
   "outputs": [
    {
     "name": "stdout",
     "output_type": "stream",
     "text": [
      "[0.97498248] [2.05249904]\n"
     ]
    }
   ],
   "source": [
    "# Sanity Check: do we get the same results as our gradient descent?\n",
    "from sklearn.linear_model import LinearRegression\n",
    "linr = LinearRegression()\n",
    "linr.fit(x_batch, y_batch)\n",
    "print(linr.intercept_, linr.coef_[0])"
   ]
  },
  {
   "cell_type": "code",
   "execution_count": 489,
   "metadata": {},
   "outputs": [
    {
     "name": "stdout",
     "output_type": "stream",
     "text": [
      "<class 'numpy.ndarray'> <class 'torch.Tensor'> torch.cuda.FloatTensor\n"
     ]
    }
   ],
   "source": [
    "import torch\n",
    "\n",
    "# Our data was in Numpy arrays, but we need to transform them into PyTorch's Tensors\n",
    "# and then we send them to the chosen device\n",
    "x_train = np.unique(x_train)\n",
    "y_train = np.unique(y_train)\n",
    "x_train_tensor = torch.from_numpy(x_train).float().to(device)\n",
    "y_train_tensor = torch.from_numpy(y_train).float().to(device)\n",
    "\n",
    "print(type(x_train), type(x_train_tensor), x_train_tensor.type())"
   ]
  },
  {
   "cell_type": "code",
   "execution_count": 490,
   "metadata": {},
   "outputs": [
    {
     "name": "stdout",
     "output_type": "stream",
     "text": [
      "tensor([0.1940], device='cuda:0') tensor([0.1391], device='cuda:0')\n"
     ]
    }
   ],
   "source": [
    "#parameters initialization with PyTorch \n",
    "\n",
    "torch.manual_seed(42)\n",
    "a = torch.cuda.FloatTensor(1).normal_()\n",
    "b = torch.cuda.FloatTensor(1).normal_()\n",
    "print(a,b)\n"
   ]
  },
  {
   "cell_type": "code",
   "execution_count": 491,
   "metadata": {},
   "outputs": [
    {
     "name": "stdout",
     "output_type": "stream",
     "text": [
      "Wall time: 0 ns\n",
      "---------  ---------------  ---------------  ---------------  ---------------  ---------------  ---------------  ---------------  ---------------  ---------------  \n",
      "Name       Self CPU total %  Self CPU total   CPU total %      CPU total        CPU time avg     CUDA total %     CUDA total       CUDA time avg    Number of Calls  \n",
      "---------  ---------------  ---------------  ---------------  ---------------  ---------------  ---------------  ---------------  ---------------  ---------------  \n",
      "to         25.22%           312.898ms        31.95%           396.325ms        99.081us         0.09%            347.123ms        86.781us         4000             \n",
      "mul        22.76%           282.363ms        22.76%           282.363ms        47.060us         0.12%            479.964ms        79.994us         6000             \n",
      "index      12.51%           155.196ms        12.51%           155.196ms        77.598us         0.06%            222.582ms        111.291us        2000             \n",
      "mean       12.01%           149.038ms        12.01%           149.038ms        49.679us         0.08%            305.845ms        101.948us        3000             \n",
      "sub        11.23%           139.375ms        11.23%           139.375ms        46.458us         99.57%           386.863s         128.954ms        3000             \n",
      "empty      6.72%            83.428ms         6.72%            83.428ms         41.714us         0.02%            97.104ms         48.552us         2000             \n",
      "pow        5.27%            65.369ms         5.27%            65.369ms         65.369us         0.03%            113.921ms        113.921us        1000             \n",
      "add        4.27%            52.929ms         4.27%            52.929ms         52.929us         0.03%            111.995ms        111.995us        1000             \n",
      "---------  ---------------  ---------------  ---------------  ---------------  ---------------  ---------------  ---------------  ---------------  ---------------  \n",
      "Self CPU time total: 1.241s\n",
      "CUDA time total: 388.542s\n",
      "\n",
      "tensor([1.1493], device='cuda:0') tensor([1.7248], device='cuda:0')\n"
     ]
    }
   ],
   "source": [
    "%time\n",
    "lr = 0.01\n",
    "n_epochs = 1000\n",
    "\n",
    "start = perf_counter()\n",
    "\n",
    "with torch.autograd.profiler.profile(use_cuda=True) as prof:\n",
    "\n",
    "\n",
    "    for epoch in range(n_epochs):\n",
    "\n",
    "\n",
    "        sampling = random.choices(np.arange(len(x_train_tensor)), k=minibatch_size)\n",
    "\n",
    "        x_batch_tensor = x_train_tensor[sampling]\n",
    "        y_batch_tensor = y_train_tensor[sampling]\n",
    "        # mandare i batch calcolati alla gpu \n",
    "        #x_batch_tensor.to(device)\n",
    "        #y_batch_tensor.to(device)\n",
    "\n",
    "\n",
    "        yhat_tensor = a + b * x_batch_tensor\n",
    "        error = y_batch_tensor - yhat_tensor\n",
    "        loss = (error ** 2).mean()\n",
    "\n",
    "\n",
    "        a_grad_tensor = -2 * error.mean()\n",
    "        b_grad_tensor = -2 * (x_batch_tensor * error).mean()\n",
    "\n",
    "        # Updates parameters using gradients and the learning rate\n",
    "        a = a - lr * a_grad_tensor\n",
    "        b = b - lr * b_grad_tensor\n",
    "\n",
    "print(prof.key_averages().table(sort_by=\"self_cpu_time_total\"))    \n",
    "print(a, b)\n"
   ]
  },
  {
   "cell_type": "code",
   "execution_count": 481,
   "metadata": {},
   "outputs": [
    {
     "data": {
      "text/plain": [
       "<function matplotlib.pyplot.show(*args, **kw)>"
      ]
     },
     "execution_count": 481,
     "metadata": {},
     "output_type": "execute_result"
    },
    {
     "data": {
      "image/png": "[encoded data removed]",
      "text/plain": [
       "<Figure size 432x288 with 1 Axes>"
      ]
     },
     "metadata": {
      "needs_background": "light"
     },
     "output_type": "display_data"
    }
   ],
   "source": [
    "#plot linear regression\n",
    "plt.figure(4) \n",
    "x_batch_tensor = torch.Tensor.cpu(x_batch_tensor)\n",
    "y_batch_tensor = torch.Tensor.cpu(y_batch_tensor)\n",
    "yhat_tensor = torch.Tensor.cpu(yhat_tensor)\n",
    "\n",
    "plt.scatter(x_batch_tensor,y_batch_tensor)\n",
    "plt.plot(x_batch_tensor,yhat_tensor,color = 'red')\n",
    "plt.show\n"
   ]
  },
  {
   "cell_type": "code",
   "execution_count": null,
   "metadata": {},
   "outputs": [],
   "source": []
  }
 ],
 "metadata": {
  "kernelspec": {
   "display_name": "Python 3",
   "language": "python",
   "name": "python3"
  }
 },
 "nbformat": 4,
 "nbformat_minor": 4
}
